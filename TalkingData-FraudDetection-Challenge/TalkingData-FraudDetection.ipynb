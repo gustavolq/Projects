{
 "cells": [
  {
   "cell_type": "markdown",
   "source": [
    "# **TalkingData AdTracking Fraud Detection Challenge**\r\n",
    "*19/08/2021 -*\r\n",
    "\r\n",
    "[![Github](https://img.shields.io/badge/gustavolq-100000?style=plastic&logo=github&logoColor=white)](https://github.com/gustavolq)\r\n",
    "[![linkedin](https://img.shields.io/badge/gustavoquadra-%230077B5.svg?style=plastic&logo=linkedin&logoColor=white)](https://www.linkedin.com/in/gustavoquadra)\r\n",
    "![Python](https://img.shields.io/badge/Python-3776AB?style=plastic&logo=python&logoColor=ffd43b&color=306998)\r\n",
    "\r\n",
    "<p style=\"text-align:center;\"><img src = \"https://www.thebeijinger.com/sites/default/files/thebeijinger/event-images/376094/screen_shot_2018-05-29_at_10.08.48_am.png\" width = '1000' height = '600'></p>\r\n",
    "\r\n",
    "Olá! Seja muito bem-vindo ao meu projeto de detecção de fraude de cliques da TalkingData.\r\n",
    "\r\n",
    "Para realização do projeto utilizei o Jupyter Notebook, um aplicativo open-source que permite a execução de células com códigos e textos, junto com a Linguagem Python, uma linguagem de programação muito utilizada para a manipulação, análise e visualização de dados, assim como o desenvolvimento de Machine Learning.\r\n",
    "\r\n",
    "### **Sumário do Projeto**\r\n",
    "\r\n",
    "1. **Introdução**\r\n",
    "2. **Definição do Problema de Negócio**\r\n",
    "3. **Preparação dos Dados**\r\n",
    "4. **Análise Exploratória dos Dados**\r\n",
    "5. **Pré-Processamento**\r\n",
    "6. **Criação do Modelo de Machine Learning**\r\n",
    "7. **Otimização do Modelo de Machine Learning**\r\n",
    "8. **Conclusão**"
   ],
   "metadata": {}
  },
  {
   "cell_type": "markdown",
   "source": [
    "<p align=\"center\">\r\n",
    "  <a href=\"mailto:gglquadra@gmail.com\"></href>\r\n",
    "    <img src=\"https://image.flaticon.com/icons/png/512/281/281786.png\" alt=\"Email\" height=\"42\" width=\"42\" style=\"margin:0px 10px\">\r\n",
    "  </a>\r\n",
    "  <a href=\"https://www.linkedin.com/in/gustavoquadra/\"></href>\r\n",
    "    <img src=\"https://image.flaticon.com/icons/png/512/145/145807.png\" alt=\"Linkedin\" height=\"42\" width=\"42\" style=\"margin:0px 10px\">\r\n",
    "  </a>\r\n",
    "  <a href=\"https://github.com/gustavolq\"></href>\r\n",
    "    <img src=\"https://image.flaticon.com/icons/png/512/733/733609.png\" alt=\"Github\" height=\"42\" width=\"42\" style=\"margin:0px 10px\">\r\n",
    "  </a>"
   ],
   "metadata": {}
  }
 ],
 "metadata": {
  "orig_nbformat": 4,
  "language_info": {
   "name": "python",
   "version": "3.7.10",
   "mimetype": "text/x-python",
   "codemirror_mode": {
    "name": "ipython",
    "version": 3
   },
   "pygments_lexer": "ipython3",
   "nbconvert_exporter": "python",
   "file_extension": ".py"
  },
  "kernelspec": {
   "name": "python3",
   "display_name": "Python 3.7.10 64-bit ('base': conda)"
  },
  "interpreter": {
   "hash": "97ae724bfa85b9b34df7982b8bb8c7216f435b92902d749e4263f71162bea840"
  }
 },
 "nbformat": 4,
 "nbformat_minor": 2
}