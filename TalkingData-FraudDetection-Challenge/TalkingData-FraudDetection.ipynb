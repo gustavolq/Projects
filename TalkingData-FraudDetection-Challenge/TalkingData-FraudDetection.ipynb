{
 "cells": [
  {
   "cell_type": "markdown",
   "source": [
    "# **TalkingData AdTracking Fraud Detection Challenge**\r\n",
    "*19/08/2021 -*\r\n",
    "\r\n",
    "[![Github](https://img.shields.io/badge/gustavolq-100000?style=plastic&logo=github&logoColor=white)](https://github.com/gustavolq)\r\n",
    "[![linkedin](https://img.shields.io/badge/gustavoquadra-%230077B5.svg?style=plastic&logo=linkedin&logoColor=white)](https://www.linkedin.com/in/gustavoquadra)\r\n",
    "![Python](https://img.shields.io/badge/Python-3776AB?style=plastic&logo=python&logoColor=ffd43b&color=306998)\r\n",
    "\r\n",
    "<p style=\"text-align:center;\"><img src = \"https://www.thebeijinger.com/sites/default/files/thebeijinger/event-images/376094/screen_shot_2018-05-29_at_10.08.48_am.png\" width = '1000' height = '600'></p>\r\n",
    "\r\n",
    "Olá! Seja muito bem-vindo ao meu projeto de detecção de fraude de cliques da TalkingData.\r\n",
    "\r\n",
    "Para realização do projeto utilizei o Jupyter Notebook, um aplicativo open-source que permite a execução de células com códigos e textos, junto com a Linguagem Python, uma linguagem de programação muito utilizada para a manipulação, análise e visualização de dados, assim como o desenvolvimento de Machine Learning.\r\n",
    "\r\n",
    "### **Sumário do Projeto**\r\n",
    "\r\n",
    "1. **Introdução**\r\n",
    "2. **Definição do Problema de Negócio**\r\n",
    "3. **Preparação dos Dados**\r\n",
    "4. **Análise Exploratória dos Dados**\r\n",
    "5. **Pré-Processamento**\r\n",
    "6. **Criação do Modelo de Machine Learning**\r\n",
    "7. **Otimização do Modelo de Machine Learning**\r\n",
    "8. **Conclusão**\r\n",
    "9. **Contato**"
   ],
   "metadata": {}
  },
  {
   "cell_type": "markdown",
   "source": [
    "# **1. Introdução**\r\n",
    "\r\n",
    "O projeto de detecção de fraudes em cliques em anúncios foi um desafio proposto pela empresa chinesa [TalkingData](https://www.talkingdata.com/) na comunidade [Kaggle](https://www.kaggle.com/), uma plataforma voltada para Cientista de Dados e profissionais de Inteligência Artificial.\r\n",
    "\r\n",
    "## **1.1 TalkingData**\r\n",
    "<img align=\"left\" alt=\"GIF\" src=\"https://github.com/gustavolq/Projects/blob/main/TalkingData-FraudDetection-Challenge/assets/TalkingDataGif.gif?raw=true\" width=\"400\" height=\"310\"/>  A TalkingData, maior plataforma de Big Data independente da China, cobre mais de 70% dos dispositivos móveis ativos em todo o país, lidando com 3 bilhões de cliques por dia, dos quais 90% são potencialmente fraudulentos.\r\n",
    "\r\n",
    "Sua abordagem atual para impedir fraudes de cliques para desenvoledores de aplicativos é medir a jornada do clique de um usuário em todo o portfólio e sinalizar endereços IP que produzem muitos cliques, mas nunca acabam instalando aplicativos, realizando a criação de uma lista negra de IPs e dispositivos.\r\n",
    "\r\n",
    "Embora bem-sucediso, eles querem estar sempre um passo à frente dos fraudadores e desejam desenvolver ainda mais a solução a partir da criação de um algoritmo que possa prever se um usuário fará o download de um aplicativo depois de clicar em um anúncio de aplicativo para dispositivos móveis.\r\n",
    "\r\n",
    "Caso você queira saber um pouco mais sobre a TalkingData, podes acessar o site da empresa clicando [aqui](https://talkingdata.com)."
   ],
   "metadata": {}
  },
  {
   "cell_type": "markdown",
   "source": [
    "[<img align=\"left\" alt=\"Gmail\" height=\"27\" width=\"27\" src=\"https://github.com/gustavolq/gustavolq/blob/main/assets/Gmail.png?raw=true\" />][Gmail] <-- Me envie um E-mail  <br/> <br/>\r\n",
    "[<img align=\"left\" alt=\"LinkedIn\" height=\"27\" width=\"27\" src=\"https://github.com/gustavolq/gustavolq/blob/main/assets/Linkedin.png?raw=true\" />][LinkedIn] <-- Visualize meu LinkedIn<br/> <br/>\r\n",
    "[<img align=\"left\" alt=\"Kaggle\" height=\"27\" width=\"27\" src=\"https://github.com/gustavolq/gustavolq/blob/main/assets/Kaggle.png?raw=true\" />][Kaggle] <-- Visualize meu Kaggle <br/> <br/>\r\n",
    "[<img align=\"left\" alt=\"LinkedIn\" height=\"27\" width=\"27\" src=\"https://github.com/gustavolq/gustavolq/blob/main/assets/Spotify.png?raw=true\" />][Spotify] <-- Ouça uma música comigo\r\n",
    "\r\n",
    "[Gmail]: mailto:gglquadra@gmail.com\r\n",
    "[LinkedIn]: https://www.linkedin.com/in/gustavoquadra/\r\n",
    "[Spotify]: https://open.spotify.com/user/x3z0vkgow695jglc3rvxpevnk\r\n",
    "[Kaggle]: https://www.kaggle.com/gustavoluizquadra"
   ],
   "metadata": {}
  }
 ],
 "metadata": {
  "orig_nbformat": 4,
  "language_info": {
   "name": "python",
   "version": "3.7.10",
   "mimetype": "text/x-python",
   "codemirror_mode": {
    "name": "ipython",
    "version": 3
   },
   "pygments_lexer": "ipython3",
   "nbconvert_exporter": "python",
   "file_extension": ".py"
  },
  "kernelspec": {
   "name": "python3",
   "display_name": "Python 3.7.10 64-bit ('base': conda)"
  },
  "interpreter": {
   "hash": "97ae724bfa85b9b34df7982b8bb8c7216f435b92902d749e4263f71162bea840"
  }
 },
 "nbformat": 4,
 "nbformat_minor": 2
}